{
 "cells": [
  {
   "cell_type": "markdown",
   "metadata": {},
   "source": [
    "# Selecioanr Elementos"
   ]
  },
  {
   "cell_type": "markdown",
   "metadata": {},
   "source": [
    "Para selecionar elementos em uma página da web usando Selenium, você pode usar diferentes métodos de localização, como ID, nome, classe, XPath, e CSS Selectors. Aqui estão alguns exemplos comuns de como selecionar elementos em Python com Selenium."
   ]
  },
  {
   "cell_type": "code",
   "execution_count": null,
   "metadata": {},
   "outputs": [],
   "source": [
    "! pip install selenium"
   ]
  },
  {
   "cell_type": "code",
   "execution_count": null,
   "metadata": {},
   "outputs": [],
   "source": [
    "# Selecionar Elemento pelo ID\n",
    "\n",
    "from selenium import webdriver\n",
    "from selenium.webdriver.common.by import By\n",
    "from selenium.webdriver.support.ui import Select\n",
    "\n",
    "driver = webdriver.Chrome()\n",
    "driver.get(\"https://www.exemplo.com\")\n",
    "\n",
    "# Seleciona um elemento pelo ID\n",
    "element = driver.find_element(By.ID, \"seu_id_aqui\")\n",
    "element.click()  # Exemplo de interação com o elemento"
   ]
  },
  {
   "cell_type": "code",
   "execution_count": null,
   "metadata": {},
   "outputs": [],
   "source": [
    "# Selecionar Elemento pelo Nome\n",
    "\n",
    "element = driver.find_element(By.NAME, \"seu_nome_aqui\")\n",
    "element.send_keys(\"Texto a enviar\")"
   ]
  },
  {
   "cell_type": "code",
   "execution_count": null,
   "metadata": {},
   "outputs": [],
   "source": [
    "# Selecionar Elemento pela Classe\n",
    "\n",
    "element = driver.find_element(By.CLASS_NAME, \"sua_classe_aqui\")\n",
    "element.click()"
   ]
  },
  {
   "cell_type": "code",
   "execution_count": null,
   "metadata": {},
   "outputs": [],
   "source": [
    "# Selecionar Elemento pelo XPath\n",
    "\n",
    "element = driver.find_element(By.XPATH, \"//tag[@atributo='valor']\")\n",
    "element.click()\n"
   ]
  },
  {
   "cell_type": "code",
   "execution_count": null,
   "metadata": {},
   "outputs": [],
   "source": [
    "# Selecionar Elemento pelo CSS Selector\n",
    "\n",
    "element = driver.find_element(By.CSS_SELECTOR, \".sua_classe_aqui #seu_id_aqui\")\n",
    "element.click()"
   ]
  },
  {
   "cell_type": "code",
   "execution_count": null,
   "metadata": {},
   "outputs": [],
   "source": [
    "# Selecionar Múltiplos Elementos\n",
    "#Para selecionar múltiplos elementos, você pode usar find_elements:\n",
    "\n",
    "elements = driver.find_elements(By.CLASS_NAME, \"sua_classe_aqui\")\n",
    "for element in elements:\n",
    "    print(element.text)  # Exibe o texto de cada elemento"
   ]
  },
  {
   "cell_type": "markdown",
   "metadata": {},
   "source": [
    "Para escolher uma opção de um elemento <select> (caixa de seleção) usando Selenium, você pode usar a classe Select do módulo selenium.webdriver.support.ui. \n",
    "\n",
    "Aqui está um exemplo de como selecionar uma opção de um elemento <select>:"
   ]
  },
  {
   "cell_type": "code",
   "execution_count": null,
   "metadata": {},
   "outputs": [],
   "source": [
    "# Selecionar uma option de um select\n",
    "\n",
    "from selenium.webdriver.support.ui import Select\n",
    "from selenium.webdriver.support.ui import WebDriverWait\n",
    "from selenium.webdriver.support import expected_conditions as EC\n",
    "\n",
    "select_element = WebDriverWait(driver, 10).until(\n",
    "        EC.visibility_of_element_located((By.ID, \"select-itens\"))\n",
    "    )\n",
    "\n",
    "# Cria uma instância de Select\n",
    "select = Select(select_element)\n",
    "\n",
    "# Seleciona uma opção pelo valor\n",
    "select.select_by_value(\"valor_da_opcao\")"
   ]
  }
 ],
 "metadata": {
  "kernelspec": {
   "display_name": "Python 3",
   "language": "python",
   "name": "python3"
  },
  "language_info": {
   "codemirror_mode": {
    "name": "ipython",
    "version": 3
   },
   "file_extension": ".py",
   "mimetype": "text/x-python",
   "name": "python",
   "nbconvert_exporter": "python",
   "pygments_lexer": "ipython3",
   "version": "3.10.12"
  }
 },
 "nbformat": 4,
 "nbformat_minor": 2
}
