{
 "cells": [
  {
   "cell_type": "markdown",
   "metadata": {},
   "source": [
    "# Instalando Biblioteca"
   ]
  },
  {
   "cell_type": "code",
   "execution_count": null,
   "metadata": {},
   "outputs": [],
   "source": [
    "! pip install selenium"
   ]
  },
  {
   "cell_type": "markdown",
   "metadata": {},
   "source": [
    "## Importando Biblioteca"
   ]
  },
  {
   "cell_type": "code",
   "execution_count": null,
   "metadata": {},
   "outputs": [],
   "source": [
    "from selenium import webdriver\n",
    "from selenium.webdriver.common.by import By\n",
    "from selenium.webdriver.common.keys import Keys\n",
    "from selenium.webdriver.chrome.service import Service as ChromeService\n",
    "from webdriver_manager.chrome import ChromeDriverManager"
   ]
  },
  {
   "cell_type": "markdown",
   "metadata": {},
   "source": [
    "## Executando Código"
   ]
  },
  {
   "cell_type": "code",
   "execution_count": null,
   "metadata": {},
   "outputs": [],
   "source": [
    "# Configurar o WebDriver\n",
    "driver = webdriver.Chrome(service=ChromeService(ChromeDriverManager().install()))\n",
    "\n",
    "try:\n",
    "    # Abre a página do Google\n",
    "    driver.get(\"https://www.google.com\")\n",
    "\n",
    "    # Encontra o campo de pesquisa\n",
    "    search_box = driver.find_element(By.NAME, \"q\")\n",
    "\n",
    "    # Envia uma consulta de pesquisa\n",
    "    search_box.send_keys(\"ter54trew4tert\")\n",
    "    search_box.send_keys(Keys.RETURN)\n",
    "\n",
    "    # Espera um pouco para os resultados carregarem\n",
    "    driver.implicitly_wait(10)  # Espera até 10 segundos\n",
    "\n",
    "    # Verifica se os resultados estão presentes\n",
    "    results = driver.find_elements(By.CSS_SELECTOR, \"h3\")\n",
    "    assert len(results) > 0, \"Nenhum resultado encontrado.\"\n",
    "\n",
    "    # Exibe o título da primeira página de resultados\n",
    "    print(\"Título da primeira página de resultados: \", results[0].text)\n",
    "\n",
    "    # Clique no primeiro resultado\n",
    "    results[0].click()\n",
    "\n",
    "    # Verifica se os resultados estão presentes\n",
    "    results = driver.find_elements(By.CSS_SELECTOR, \"h2\")\n",
    "    assert len(results) > 0, \"Nenhum resultado encontrado.\"\n",
    "\n",
    "    # Exibe o título da primeira página de resultados\n",
    "    print(\"Título da segunda página de resultados: \", results[0].text)\n",
    "\n",
    "except Exception as e:\n",
    "    # Executado se ocorrer qualquer exceção\n",
    "    print(f\"Ocorreu um erro: {e}\")\n",
    "\n",
    "finally:\n",
    "    # Fecha o navegador\n",
    "    driver.quit()"
   ]
  }
 ],
 "metadata": {
  "language_info": {
   "name": "python"
  }
 },
 "nbformat": 4,
 "nbformat_minor": 2
}
