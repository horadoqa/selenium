{
 "cells": [
  {
   "cell_type": "markdown",
   "metadata": {},
   "source": [
    "# Instalando Biblioteca"
   ]
  },
  {
   "cell_type": "code",
   "execution_count": 1,
   "metadata": {},
   "outputs": [
    {
     "name": "stdout",
     "output_type": "stream",
     "text": [
      "Defaulting to user installation because normal site-packages is not writeable\n",
      "Requirement already satisfied: selenium in /home/rfahham/.local/lib/python3.10/site-packages (4.24.0)\n",
      "Requirement already satisfied: typing_extensions~=4.9 in /home/rfahham/.local/lib/python3.10/site-packages (from selenium) (4.12.2)\n",
      "Requirement already satisfied: trio-websocket~=0.9 in /home/rfahham/.local/lib/python3.10/site-packages (from selenium) (0.11.1)\n",
      "Requirement already satisfied: websocket-client~=1.8 in /home/rfahham/.local/lib/python3.10/site-packages (from selenium) (1.8.0)\n",
      "Requirement already satisfied: urllib3[socks]<3,>=1.26 in /home/rfahham/.local/lib/python3.10/site-packages (from selenium) (2.2.2)\n",
      "Requirement already satisfied: trio~=0.17 in /home/rfahham/.local/lib/python3.10/site-packages (from selenium) (0.26.2)\n",
      "Requirement already satisfied: certifi>=2021.10.8 in /home/rfahham/.local/lib/python3.10/site-packages (from selenium) (2024.8.30)\n",
      "Requirement already satisfied: sortedcontainers in /home/rfahham/.local/lib/python3.10/site-packages (from trio~=0.17->selenium) (2.4.0)\n",
      "Requirement already satisfied: outcome in /home/rfahham/.local/lib/python3.10/site-packages (from trio~=0.17->selenium) (1.3.0.post0)\n",
      "Requirement already satisfied: exceptiongroup in /home/rfahham/.local/lib/python3.10/site-packages (from trio~=0.17->selenium) (1.2.2)\n",
      "Requirement already satisfied: attrs>=23.2.0 in /home/rfahham/.local/lib/python3.10/site-packages (from trio~=0.17->selenium) (24.2.0)\n",
      "Requirement already satisfied: idna in /home/rfahham/.local/lib/python3.10/site-packages (from trio~=0.17->selenium) (3.8)\n",
      "Requirement already satisfied: sniffio>=1.3.0 in /home/rfahham/.local/lib/python3.10/site-packages (from trio~=0.17->selenium) (1.3.1)\n",
      "Requirement already satisfied: wsproto>=0.14 in /home/rfahham/.local/lib/python3.10/site-packages (from trio-websocket~=0.9->selenium) (1.2.0)\n",
      "Requirement already satisfied: pysocks!=1.5.7,<2.0,>=1.5.6 in /home/rfahham/.local/lib/python3.10/site-packages (from urllib3[socks]<3,>=1.26->selenium) (1.7.1)\n",
      "Requirement already satisfied: h11<1,>=0.9.0 in /home/rfahham/.local/lib/python3.10/site-packages (from wsproto>=0.14->trio-websocket~=0.9->selenium) (0.14.0)\n"
     ]
    }
   ],
   "source": [
    "! pip install selenium"
   ]
  },
  {
   "cell_type": "markdown",
   "metadata": {},
   "source": [
    "## Importando Biblioteca"
   ]
  },
  {
   "cell_type": "code",
   "execution_count": 3,
   "metadata": {},
   "outputs": [],
   "source": [
    "from selenium import webdriver\n",
    "from selenium.webdriver.common.by import By\n",
    "from selenium.webdriver.common.keys import Keys\n",
    "from selenium.webdriver.chrome.service import Service as ChromeService\n",
    "from webdriver_manager.chrome import ChromeDriverManager"
   ]
  },
  {
   "cell_type": "markdown",
   "metadata": {},
   "source": [
    "## Executando Código"
   ]
  },
  {
   "cell_type": "code",
   "execution_count": 4,
   "metadata": {},
   "outputs": [
    {
     "name": "stdout",
     "output_type": "stream",
     "text": [
      "Título da primeira página de resultados:  Selenium\n",
      "Título da segunda página de resultados:  Getting Started\n"
     ]
    }
   ],
   "source": [
    "# Configurar o WebDriver\n",
    "driver = webdriver.Chrome(service=ChromeService(ChromeDriverManager().install()))\n",
    "\n",
    "try:\n",
    "    # Abre a página do Google\n",
    "    driver.get(\"https://www.google.com\")\n",
    "\n",
    "    # Encontra o campo de pesquisa\n",
    "    search_box = driver.find_element(By.NAME, \"q\")\n",
    "\n",
    "    # Envia uma consulta de pesquisa\n",
    "    search_box.send_keys(\"Selenium\")\n",
    "    search_box.send_keys(Keys.RETURN)\n",
    "\n",
    "    # Espera um pouco para os resultados carregarem\n",
    "    driver.implicitly_wait(10)  # Espera até 10 segundos\n",
    "\n",
    "    # Verifica se os resultados estão presentes\n",
    "    results = driver.find_elements(By.CSS_SELECTOR, \"h3\")\n",
    "    assert len(results) > 0, \"Nenhum resultado encontrado.\"\n",
    "\n",
    "    # Exibe o título da primeira página de resultados\n",
    "    print(\"Título da primeira página de resultados: \", results[0].text)\n",
    "\n",
    "    # Clique no primeiro resultado\n",
    "    results[0].click()\n",
    "\n",
    "    # Verifica se os resultados estão presentes\n",
    "    results = driver.find_elements(By.CSS_SELECTOR, \"h2\")\n",
    "    assert len(results) > 0, \"Nenhum resultado encontrado.\"\n",
    "\n",
    "    # Exibe o título da primeira página de resultados\n",
    "    print(\"Título da segunda página de resultados: \", results[0].text)\n",
    "\n",
    "except Exception as e:\n",
    "    # Executado se ocorrer qualquer exceção\n",
    "    print(f\"Ocorreu um erro: {e}\")\n",
    "\n",
    "finally:\n",
    "    # Fecha o navegador\n",
    "    driver.quit()"
   ]
  }
 ],
 "metadata": {
  "kernelspec": {
   "display_name": "Python 3",
   "language": "python",
   "name": "python3"
  },
  "language_info": {
   "codemirror_mode": {
    "name": "ipython",
    "version": 3
   },
   "file_extension": ".py",
   "mimetype": "text/x-python",
   "name": "python",
   "nbconvert_exporter": "python",
   "pygments_lexer": "ipython3",
   "version": "3.10.12"
  }
 },
 "nbformat": 4,
 "nbformat_minor": 2
}
