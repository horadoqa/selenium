{
 "cells": [
  {
   "cell_type": "markdown",
   "metadata": {},
   "source": [
    "## Instalando Biblioteca"
   ]
  },
  {
   "cell_type": "code",
   "execution_count": 2,
   "metadata": {},
   "outputs": [
    {
     "name": "stdout",
     "output_type": "stream",
     "text": [
      "Defaulting to user installation because normal site-packages is not writeable\n",
      "Requirement already satisfied: selenium in /home/rfahham/.local/lib/python3.10/site-packages (4.24.0)\n",
      "Requirement already satisfied: typing_extensions~=4.9 in /home/rfahham/.local/lib/python3.10/site-packages (from selenium) (4.12.2)\n",
      "Requirement already satisfied: certifi>=2021.10.8 in /home/rfahham/.local/lib/python3.10/site-packages (from selenium) (2024.8.30)\n",
      "Requirement already satisfied: websocket-client~=1.8 in /home/rfahham/.local/lib/python3.10/site-packages (from selenium) (1.8.0)\n",
      "Requirement already satisfied: urllib3[socks]<3,>=1.26 in /home/rfahham/.local/lib/python3.10/site-packages (from selenium) (2.2.2)\n",
      "Requirement already satisfied: trio~=0.17 in /home/rfahham/.local/lib/python3.10/site-packages (from selenium) (0.26.2)\n",
      "Requirement already satisfied: trio-websocket~=0.9 in /home/rfahham/.local/lib/python3.10/site-packages (from selenium) (0.11.1)\n",
      "Requirement already satisfied: outcome in /home/rfahham/.local/lib/python3.10/site-packages (from trio~=0.17->selenium) (1.3.0.post0)\n",
      "Requirement already satisfied: exceptiongroup in /home/rfahham/.local/lib/python3.10/site-packages (from trio~=0.17->selenium) (1.2.2)\n",
      "Requirement already satisfied: sniffio>=1.3.0 in /home/rfahham/.local/lib/python3.10/site-packages (from trio~=0.17->selenium) (1.3.1)\n",
      "Requirement already satisfied: attrs>=23.2.0 in /home/rfahham/.local/lib/python3.10/site-packages (from trio~=0.17->selenium) (24.2.0)\n",
      "Requirement already satisfied: sortedcontainers in /home/rfahham/.local/lib/python3.10/site-packages (from trio~=0.17->selenium) (2.4.0)\n",
      "Requirement already satisfied: idna in /home/rfahham/.local/lib/python3.10/site-packages (from trio~=0.17->selenium) (3.8)\n",
      "Requirement already satisfied: wsproto>=0.14 in /home/rfahham/.local/lib/python3.10/site-packages (from trio-websocket~=0.9->selenium) (1.2.0)\n",
      "Requirement already satisfied: pysocks!=1.5.7,<2.0,>=1.5.6 in /home/rfahham/.local/lib/python3.10/site-packages (from urllib3[socks]<3,>=1.26->selenium) (1.7.1)\n",
      "Requirement already satisfied: h11<1,>=0.9.0 in /home/rfahham/.local/lib/python3.10/site-packages (from wsproto>=0.14->trio-websocket~=0.9->selenium) (0.14.0)\n"
     ]
    }
   ],
   "source": [
    "! pip install selenium"
   ]
  },
  {
   "cell_type": "markdown",
   "metadata": {},
   "source": [
    "## Importando Biblioteca"
   ]
  },
  {
   "cell_type": "code",
   "execution_count": 3,
   "metadata": {},
   "outputs": [],
   "source": [
    "from selenium import webdriver\n",
    "from selenium.webdriver.common.by import By\n",
    "from selenium.webdriver.support.ui import Select\n",
    "from selenium.webdriver.support.ui import WebDriverWait\n",
    "from selenium.webdriver.chrome.service import Service as ChromeService\n",
    "from webdriver_manager.chrome import ChromeDriverManager\n",
    "from selenium.webdriver.support import expected_conditions as EC\n",
    "import time"
   ]
  },
  {
   "cell_type": "markdown",
   "metadata": {},
   "source": [
    "## Código que será executado"
   ]
  },
  {
   "cell_type": "code",
   "execution_count": 4,
   "metadata": {},
   "outputs": [
    {
     "name": "stdout",
     "output_type": "stream",
     "text": [
      "Mensagem da segunda página :  Hora do QA\n"
     ]
    }
   ],
   "source": [
    "# Configurar o WebDriver\n",
    "driver = webdriver.Chrome(service=ChromeService(ChromeDriverManager().install()))\n",
    "\n",
    "# Abrir a página inicial\n",
    "driver.get(\"https://horadoqa.github.io/site/testes/index.html\")\n",
    "\n",
    "# Verificar o título da página\n",
    "assert \"Hora do QA\" in driver.title\n",
    "\n",
    "select_element = WebDriverWait(driver, 10).until(\n",
    "        EC.visibility_of_element_located((By.ID, \"select-itens\"))\n",
    "    )\n",
    "\n",
    "# Encontre o elemento que deseja clicar\n",
    "select = Select(select_element)\n",
    "select.select_by_value(\"second-item\")  \n",
    "time.sleep(5)\n",
    "\n",
    "tell_us = driver.find_element(By.ID, \"area\")\n",
    "tell_us.send_keys(\"Selenium automates browsers. That's it! What you do with that power is entirely up to you.\")\n",
    "time.sleep(5)\n",
    "\n",
    "name = driver.find_element(By.ID, \"fname\")\n",
    "name.send_keys(\"Hora do QA\")\n",
    "\n",
    "email = driver.find_element(By.ID, \"email\")\n",
    "email.send_keys(\"horadoqa@gmail.com\")\n",
    "\n",
    "phone = driver.find_element(By.ID, \"phone\")\n",
    "phone.send_keys(\"21987654321\")\n",
    "\n",
    "select_country = WebDriverWait(driver, 10).until(\n",
    "        EC.visibility_of_element_located((By.ID, \"country\"))\n",
    "    )\n",
    "\n",
    "# Encontre o elemento que deseja clicar\n",
    "select = Select(select_country)\n",
    "select.select_by_value(\"brasil\")  \n",
    "time.sleep(5)\n",
    "\n",
    "send = driver.find_element(By.ID, \"submit-button\")\n",
    "send.click()\n",
    "\n",
    "time.sleep(5)\n",
    "\n",
    "# Verifica se os resultados estão presentes\n",
    "results = driver.find_elements(By.CSS_SELECTOR, \"h1\")\n",
    "assert len(results) > 0, \"Nenhum resultado encontrado.\"\n",
    "\n",
    "# Exibe o título da primeira página de resultados\n",
    "print(\"Mensagem da segunda página : \", results[0].text)\n",
    "\n",
    "# Feche o navegador\n",
    "driver.quit()"
   ]
  }
 ],
 "metadata": {
  "kernelspec": {
   "display_name": "Python 3",
   "language": "python",
   "name": "python3"
  },
  "language_info": {
   "codemirror_mode": {
    "name": "ipython",
    "version": 3
   },
   "file_extension": ".py",
   "mimetype": "text/x-python",
   "name": "python",
   "nbconvert_exporter": "python",
   "pygments_lexer": "ipython3",
   "version": "3.10.12"
  }
 },
 "nbformat": 4,
 "nbformat_minor": 2
}
