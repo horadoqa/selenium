{
 "cells": [
  {
   "cell_type": "markdown",
   "metadata": {},
   "source": [
    "# Criar Conta Globo"
   ]
  },
  {
   "cell_type": "markdown",
   "metadata": {},
   "source": [
    "## Instalando Biblioteca"
   ]
  },
  {
   "cell_type": "code",
   "execution_count": 2,
   "metadata": {},
   "outputs": [
    {
     "name": "stdout",
     "output_type": "stream",
     "text": [
      "Defaulting to user installation because normal site-packages is not writeable\n",
      "Requirement already satisfied: selenium in /home/rfahham/.local/lib/python3.10/site-packages (4.24.0)\n",
      "Requirement already satisfied: trio-websocket~=0.9 in /home/rfahham/.local/lib/python3.10/site-packages (from selenium) (0.11.1)\n",
      "Requirement already satisfied: websocket-client~=1.8 in /home/rfahham/.local/lib/python3.10/site-packages (from selenium) (1.8.0)\n",
      "Requirement already satisfied: certifi>=2021.10.8 in /home/rfahham/.local/lib/python3.10/site-packages (from selenium) (2024.8.30)\n",
      "Requirement already satisfied: typing_extensions~=4.9 in /home/rfahham/.local/lib/python3.10/site-packages (from selenium) (4.12.2)\n",
      "Requirement already satisfied: trio~=0.17 in /home/rfahham/.local/lib/python3.10/site-packages (from selenium) (0.26.2)\n",
      "Requirement already satisfied: urllib3[socks]<3,>=1.26 in /home/rfahham/.local/lib/python3.10/site-packages (from selenium) (2.2.2)\n",
      "Requirement already satisfied: exceptiongroup in /home/rfahham/.local/lib/python3.10/site-packages (from trio~=0.17->selenium) (1.2.2)\n",
      "Requirement already satisfied: outcome in /home/rfahham/.local/lib/python3.10/site-packages (from trio~=0.17->selenium) (1.3.0.post0)\n",
      "Requirement already satisfied: sortedcontainers in /home/rfahham/.local/lib/python3.10/site-packages (from trio~=0.17->selenium) (2.4.0)\n",
      "Requirement already satisfied: idna in /home/rfahham/.local/lib/python3.10/site-packages (from trio~=0.17->selenium) (3.8)\n",
      "Requirement already satisfied: sniffio>=1.3.0 in /home/rfahham/.local/lib/python3.10/site-packages (from trio~=0.17->selenium) (1.3.1)\n",
      "Requirement already satisfied: attrs>=23.2.0 in /home/rfahham/.local/lib/python3.10/site-packages (from trio~=0.17->selenium) (24.2.0)\n",
      "Requirement already satisfied: wsproto>=0.14 in /home/rfahham/.local/lib/python3.10/site-packages (from trio-websocket~=0.9->selenium) (1.2.0)\n",
      "Requirement already satisfied: pysocks!=1.5.7,<2.0,>=1.5.6 in /home/rfahham/.local/lib/python3.10/site-packages (from urllib3[socks]<3,>=1.26->selenium) (1.7.1)\n",
      "Requirement already satisfied: h11<1,>=0.9.0 in /home/rfahham/.local/lib/python3.10/site-packages (from wsproto>=0.14->trio-websocket~=0.9->selenium) (0.14.0)\n"
     ]
    }
   ],
   "source": [
    "! pip install selenium"
   ]
  },
  {
   "cell_type": "markdown",
   "metadata": {},
   "source": [
    "## Importando Biblioteca"
   ]
  },
  {
   "cell_type": "code",
   "execution_count": 3,
   "metadata": {},
   "outputs": [],
   "source": [
    "from selenium import webdriver\n",
    "from selenium.webdriver.common.by import By\n",
    "from selenium.webdriver.common.keys import Keys\n",
    "from selenium.webdriver.chrome.service import Service as ChromeService\n",
    "from webdriver_manager.chrome import ChromeDriverManager\n",
    "import time"
   ]
  },
  {
   "cell_type": "markdown",
   "metadata": {},
   "source": [
    "## Código que será executado"
   ]
  },
  {
   "cell_type": "code",
   "execution_count": 4,
   "metadata": {},
   "outputs": [
    {
     "name": "stdout",
     "output_type": "stream",
     "text": [
      "Assine já\n",
      "Conta Globo\n",
      "Criar conta\n"
     ]
    }
   ],
   "source": [
    "driver = webdriver.Chrome(service=ChromeService(ChromeDriverManager().install()))\n",
    "\n",
    "try:\n",
    "    driver.get(\"https://globoplay.globo.com/\")\n",
    "    time.sleep(5)\n",
    "\n",
    "    assert \"Globoplay | Assista online aos programas da Globo\" in driver.title\n",
    "\n",
    "    assine = driver.find_element(By.XPATH, \"//*[@id='app']/div/div/div[1]/div[2]/div/a/span\")\n",
    "    print(assine.text)\n",
    "    assine.click()\n",
    "    time.sleep(5)\n",
    "\n",
    "    driver.get(\"https://vitrine.globo.com/globoplay?f_area=home&f_cpnt=banner_vendas&f_label=assinatura.assine_ja&url=https:%2F%2Fgloboplay.globo.com%2F&origemId=91628\")\n",
    "    time.sleep(5)\n",
    "\n",
    "    conta_globo = driver.find_element(By.XPATH, \"/html/body/app-root/main/app-product/app-header-bar-fit/header/div/app-user-button/div/a/div/p\")\n",
    "    print(conta_globo.text)\n",
    "    conta_globo.click()\n",
    "    time.sleep(5)\n",
    "\n",
    "    elemento = driver.find_element(By.XPATH, \"//*[@id='root']/div[1]/main/div/div/div/div/div[2]/p/a\")\n",
    "    print(elemento.text)\n",
    "    elemento.click()\n",
    "    time.sleep(10)\n",
    "\n",
    "    ## Cadastro\n",
    "\n",
    "    nome = driver.find_element(By.ID, \"nome\")\n",
    "    nome.send_keys(\"Hora do QA\")\n",
    "\n",
    "    email = driver.find_element(By.ID, \"email\")\n",
    "    email.send_keys(\"horadoqa@gmail.com\")\n",
    "\n",
    "    senha = driver.find_element(By.ID, \"senha\")\n",
    "    senha.send_keys(\"1q2w3e4r\")\n",
    "\n",
    "    nascimento = driver.find_element(By.ID, \"nascimento\")\n",
    "    nascimento.send_keys(\"01071971\")\n",
    "\n",
    "    termos = driver.find_element(By.ID, \"termsOfUse\")\n",
    "    termos.click()\n",
    "    time.sleep(10)\n",
    "\n",
    "finally:\n",
    "    driver.quit()"
   ]
  }
 ],
 "metadata": {
  "kernelspec": {
   "display_name": "Python 3",
   "language": "python",
   "name": "python3"
  },
  "language_info": {
   "codemirror_mode": {
    "name": "ipython",
    "version": 3
   },
   "file_extension": ".py",
   "mimetype": "text/x-python",
   "name": "python",
   "nbconvert_exporter": "python",
   "pygments_lexer": "ipython3",
   "version": "3.10.12"
  }
 },
 "nbformat": 4,
 "nbformat_minor": 2
}
